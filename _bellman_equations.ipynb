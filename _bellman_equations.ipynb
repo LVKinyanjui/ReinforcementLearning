{
 "cells": [
  {
   "cell_type": "code",
   "execution_count": 1,
   "id": "1a6b457c-c4a5-4623-9657-bb925eb5ea23",
   "metadata": {
    "tags": []
   },
   "outputs": [],
   "source": [
    "import numpy as np"
   ]
  },
  {
   "cell_type": "markdown",
   "id": "de76073e-80c3-4e1f-9578-66331074893d",
   "metadata": {},
   "source": [
    "## Components"
   ]
  },
  {
   "cell_type": "markdown",
   "id": "6b0621ef-9a64-4ef5-b216-a3b9b85b0d17",
   "metadata": {},
   "source": [
    "### State Space\n",
    "\n",
    "We will begin with a 2D vector that will represent our state space. The values will be the probability of transitioning into that state."
   ]
  },
  {
   "cell_type": "code",
   "execution_count": 3,
   "id": "e7a80733-12d1-459e-b4be-a20f4125ffb5",
   "metadata": {
    "tags": []
   },
   "outputs": [
    {
     "data": {
      "text/plain": [
       "array([[0.58730273, 0.09201798, 0.51500385, 0.29558165, 0.50902515],\n",
       "       [0.6771722 , 0.23747879, 0.17636913, 0.37862748, 0.26090631],\n",
       "       [0.47792749, 0.75907078, 0.10326612, 0.54890839, 0.21833912],\n",
       "       [0.19312544, 0.24399083, 0.15927819, 0.27631394, 0.81189255],\n",
       "       [0.85107541, 0.15556541, 0.24482723, 0.34035752, 0.81589631]])"
      ]
     },
     "execution_count": 3,
     "metadata": {},
     "output_type": "execute_result"
    }
   ],
   "source": [
    "state_space = np.random.rand(5, 5)\n",
    "state_space"
   ]
  },
  {
   "cell_type": "code",
   "execution_count": 6,
   "id": "e2f140bd-6973-497d-8187-2f9d7e3f78d6",
   "metadata": {
    "tags": []
   },
   "outputs": [
    {
     "data": {
      "text/plain": [
       "0.5873027251305042"
      ]
     },
     "execution_count": 6,
     "metadata": {},
     "output_type": "execute_result"
    }
   ],
   "source": [
    "state_space[0, 0]"
   ]
  },
  {
   "cell_type": "markdown",
   "id": "fc28ba48-e53e-475b-9044-49029253d32a",
   "metadata": {},
   "source": [
    "### Actions\n",
    "There are four (4): left, right, up, down"
   ]
  },
  {
   "cell_type": "markdown",
   "id": "9bc162ec-6646-4d97-8d93-8a50b104115a",
   "metadata": {},
   "source": [
    "## Evaluation"
   ]
  },
  {
   "cell_type": "code",
   "execution_count": 10,
   "id": "a1841f75-d303-4404-a06a-ceca80423ba6",
   "metadata": {
    "tags": []
   },
   "outputs": [],
   "source": [
    "reward = 1\n",
    "gamma = 0\n",
    "value_function = np.mean(5)"
   ]
  },
  {
   "cell_type": "code",
   "execution_count": 11,
   "id": "804e0e39-a306-4fca-a311-ce8a2dd77ca8",
   "metadata": {
    "tags": []
   },
   "outputs": [
    {
     "data": {
      "text/plain": [
       "1.0"
      ]
     },
     "execution_count": 11,
     "metadata": {},
     "output_type": "execute_result"
    }
   ],
   "source": [
    "reward - gamma * value_function"
   ]
  },
  {
   "cell_type": "code",
   "execution_count": null,
   "id": "af6b1a9b-cadb-4e75-83a9-811fa6c6c83e",
   "metadata": {},
   "outputs": [],
   "source": []
  }
 ],
 "metadata": {
  "kernelspec": {
   "display_name": "Python 3 (ipykernel)",
   "language": "python",
   "name": "python3"
  },
  "language_info": {
   "codemirror_mode": {
    "name": "ipython",
    "version": 3
   },
   "file_extension": ".py",
   "mimetype": "text/x-python",
   "name": "python",
   "nbconvert_exporter": "python",
   "pygments_lexer": "ipython3",
   "version": "3.10.4"
  }
 },
 "nbformat": 4,
 "nbformat_minor": 5
}
