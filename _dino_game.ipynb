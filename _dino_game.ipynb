{
 "cells": [
  {
   "cell_type": "markdown",
   "id": "ee3b424b-f058-40fd-863b-c94430b27043",
   "metadata": {},
   "source": [
    "I want to make experiment with reinforcement learning and of course the best way to do that is practice!"
   ]
  },
  {
   "cell_type": "markdown",
   "id": "52eb228a-b6a9-4ee4-b086-2f4e5b741cd1",
   "metadata": {},
   "source": [
    "## Techniques\n",
    "We might try out a few methods but for now `selenium` shall be our guide and shield."
   ]
  },
  {
   "cell_type": "code",
   "execution_count": 1,
   "id": "691c0aff-4c3f-4a79-8919-ed3727316622",
   "metadata": {
    "tags": []
   },
   "outputs": [],
   "source": [
    "import time"
   ]
  },
  {
   "cell_type": "code",
   "execution_count": 2,
   "id": "aa83e1ad-fa54-42f1-9a5a-35a10354116a",
   "metadata": {
    "tags": []
   },
   "outputs": [],
   "source": [
    "from selenium import webdriver\n",
    "from selenium.webdriver.common.by import By\n",
    "from selenium.webdriver.common.keys import Keys\n",
    "from selenium.common.exceptions import WebDriverException"
   ]
  },
  {
   "cell_type": "markdown",
   "id": "6933fd0a-a865-44e8-90d4-e0463be399a1",
   "metadata": {},
   "source": [
    "## The dino game\n",
    "This is the game we are going to be training our RL agent on. We get it at this address `chrome://dino/`. This may seem like a silly game but I can assure you (and myself), that I do not expect it to be an easy matter."
   ]
  },
  {
   "cell_type": "code",
   "execution_count": 3,
   "id": "f6281d50-e034-4292-ada8-547ae8123656",
   "metadata": {},
   "outputs": [],
   "source": [
    "driver = webdriver.Chrome()"
   ]
  },
  {
   "cell_type": "code",
   "execution_count": 4,
   "id": "956a1a9e-52ef-4810-8bbb-05822c1c7ff1",
   "metadata": {},
   "outputs": [],
   "source": [
    "try:\n",
    "    driver.get('chrome://dino/')\n",
    "except WebDriverException:\n",
    "    pass"
   ]
  },
  {
   "cell_type": "code",
   "execution_count": 5,
   "id": "deb5ffb2-d6d7-481f-a11c-af2411c27be4",
   "metadata": {},
   "outputs": [],
   "source": [
    "def jump():\n",
    "    # Press space bar in the main body of the page\n",
    "    driver.find_element(By.TAG_NAME, 'body').send_keys(Keys.SPACE)"
   ]
  },
  {
   "cell_type": "code",
   "execution_count": 6,
   "id": "3ecaae25-7528-4839-8174-8e001163cbc3",
   "metadata": {
    "tags": []
   },
   "outputs": [],
   "source": [
    "jump()"
   ]
  },
  {
   "cell_type": "markdown",
   "id": "d621fc54-11d4-4c53-9f46-b56104a0a472",
   "metadata": {},
   "source": [
    "## Notes\n",
    "The game is contained in a `canvas` html element. This allows for interactive play rendered by javascript."
   ]
  },
  {
   "cell_type": "markdown",
   "id": "77ead1a1-0b63-4fc0-8880-96711c8119ee",
   "metadata": {},
   "source": [
    "## Strategy\n",
    "1. We will need a **visual recognition** algorithm to identify the *obstacles*(cacti), that pop up. Possible tools include:\n",
    "    - `pyautogui` with its `locate` methods.\n",
    "    - a `CNN` (convolutional neural network) model **fine-tuned** for identifying obstacles (This may be overkill).\n",
    "2. Gameplay.  \n",
    "    This is what the RL agent is supposed to learn. `when` to jump.\n",
    "    It will use selenium and the visual recognition tools outlined above to interact with its environment, get reward, improve policy and so on."
   ]
  },
  {
   "cell_type": "markdown",
   "id": "bce69b2b-b5e7-4e2b-a05a-af237eb63962",
   "metadata": {},
   "source": [
    "## Propositions\n",
    "1. It needs to `episodic`, that is, the game should **end**. To that end, we will fix a `game score` that we want to get to. Once achieved we will assume the game to be complete.  \n",
    "    We will need OCR to capture the score on the screen and convert it into a numerical value."
   ]
  },
  {
   "cell_type": "code",
   "execution_count": 7,
   "id": "c655c766-4502-45ab-b6ea-fd4a65727de8",
   "metadata": {},
   "outputs": [],
   "source": [
    "# TODO\n",
    "#       Accurately read the score using image to text"
   ]
  },
  {
   "cell_type": "code",
   "execution_count": null,
   "id": "01HYDFDVTX2MKJK1HRC75J9PRG",
   "metadata": {},
   "outputs": [],
   "source": []
  }
 ],
 "metadata": {
  "kernelspec": {
   "display_name": "Python 3",
   "language": "python",
   "name": "python3"
  },
  "language_info": {
   "codemirror_mode": {
    "name": "ipython",
    "version": 3
   },
   "file_extension": ".py",
   "mimetype": "text/x-python",
   "name": "python",
   "nbconvert_exporter": "python",
   "pygments_lexer": "ipython3",
   "version": "3.10.4"
  }
 },
 "nbformat": 4,
 "nbformat_minor": 5
}
